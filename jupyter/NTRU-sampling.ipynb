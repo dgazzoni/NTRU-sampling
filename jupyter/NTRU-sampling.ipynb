{
 "cells": [
  {
   "cell_type": "markdown",
   "metadata": {},
   "source": [
    "This Jupyter notebook computes certain quantities related to the rejection\n",
    "sampling probabilities for the <span style=\"font-variant:small-caps;\">\n",
    "RejSamplingMod</span> and <span style=\"font-variant:small-caps;\">\n",
    "SIMD-RejSamplingMod</span> algorithms in our paper. The results obtained from\n",
    "these calculations are used in Section 4 (\"Implementation aspects\"), under\n",
    "\"Choosing the parameter $L$\".\n",
    "\n",
    "To run the notebook, a [SageMath](https://www.sagemath.org) kernel is required."
   ]
  },
  {
   "cell_type": "code",
   "execution_count": null,
   "metadata": {
    "vscode": {
     "languageId": "python"
    }
   },
   "outputs": [],
   "source": [
    "# We perform the calculation with 256 bits of floating-point precision to have\n",
    "# a good margin of safety; computations take on the order of a minute on a\n",
    "# modern computer, despite the use of multiprecision arithmetic. We have\n",
    "# checked with even higher precisions to ensure the results have converged.\n",
    "prec = 256\n",
    "RRR = RealField(prec)\n",
    "x = polygen(RRR, 'x')"
   ]
  },
  {
   "cell_type": "code",
   "execution_count": null,
   "metadata": {
    "vscode": {
     "languageId": "python"
    }
   },
   "outputs": [],
   "source": [
    "# Initialize the parameter L (as in our paper), the parameter W of\n",
    "# SIMD-RejSamplingMod, standardized values of n from the NTRU specification,\n",
    "# and the acceptable probability of error (the rationale for the default\n",
    "# choice is given in our paper).\n",
    "L = 16\n",
    "W = 16\n",
    "ns = [509, 677, 821]\n",
    "log2_p_err = -74\n",
    "p_err = RRR(2^log2_p_err)"
   ]
  },
  {
   "cell_type": "markdown",
   "metadata": {},
   "source": [
    "We recall that <span style=\"font-variant:small-caps;\">RejSamplingMod</span>\n",
    "outputs an array $\\mathbf{si}$ of $n - 1$ elements, such that $\\mathbf{si}[i]\n",
    "\\sim \\mathcal{U}(0, n - 1 - i)$. It does so by rejection sampling. According to\n",
    "Lemma 1 in the paper, the rejection probability for each $i \\in {0, \\ldots,\n",
    "n - 2}$ is given by $p_r(i) = \\frac{2^L \\bmod (n - 1 - i)}{2^L}$, and thus the\n",
    "acceptance probability is $p_a(i) = 1 - p_r(i)$ -- this corresponds to the array\n",
    "`p` in the next cell.\n",
    "\n",
    "We seek, for each $i$, the expected number of trials required until acceptance.\n",
    "This can be modeled as a geometric random variable $X_i$. The probability that\n",
    "the $k$-th trial is the first success is given by $\\mathrm{Pr}(X_i = k) =\n",
    "(1 - p_a(i))^{k - 1} p_a(i)$, and is computed as the variable `t` in the next\n",
    "cell.\n",
    "\n",
    "We then construct a probability-generating function $G_i(x) =\n",
    "\\sum_{k = 1}^\\infty \\mathrm{Pr}(X_i = k) x^k$, although we truncate the series\n",
    "at $k < k_0$, where $k_0$ is such that $\\mathrm{Pr}(X_i = k_0) < 2^{-prec}$,\n",
    "with $prec$ the floating-point precision defined before. While this choice is\n",
    "heuristic, our experiments indicate it is more than adequate. This is computed\n",
    "as the variable `p_X_eq_k` in the next cell, and we construct an array `PGFs`\n",
    "containing $G_i(x)$ for each $i \\in {0, \\ldots, n - 2}$."
   ]
  },
  {
   "cell_type": "code",
   "execution_count": null,
   "metadata": {
    "vscode": {
     "languageId": "python"
    }
   },
   "outputs": [],
   "source": [
    "def compute_PGFs(RRR, n, L):\n",
    "    p = [RRR(1 - (2^L % (n - 1 - i)) / 2^L) for i in range(n - 1)]\n",
    "    PGFs = []\n",
    "    \n",
    "    for i in range(len(p)):\n",
    "        p_X_eq_k = 0\n",
    "        k = 1\n",
    "        while True:\n",
    "            t = (1 - p[i])^(k - 1)*p[i]\n",
    "            if t < RRR(2^(-RRR.precision())):\n",
    "                break\n",
    "            p_X_eq_k += t*x^k\n",
    "            k += 1\n",
    "        PGFs.append(p_X_eq_k)\n",
    "    \n",
    "    return PGFs"
   ]
  },
  {
   "cell_type": "markdown",
   "metadata": {},
   "source": [
    "Our algorithm <span style=\"font-variant:small-caps;\">SIMD-RejSamplingMod</span>\n",
    "performs rejection sampling of a block of $W$ entries of $\\mathbf{si}$ at a\n",
    "time. If a single entry within the block is rejected, we must run a fixup\n",
    "procedure using scalar code which adds to the running time. It is imperative to\n",
    "determine how often this happens. Thus, we seek the probability, for each block\n",
    "$i = 0, \\ldots, W - 1; W, \\ldots, 2W - 1; \\ldots$, that at least one of the\n",
    "entries within the block is rejected.\n",
    "\n",
    "We compute this using the result that the PGF of a sum of random variables\n",
    "corresponds to the product of PGFs of the random variables. In the next cell, we\n",
    "compute $\\mathbf{resW}[j] = \\sum_{i = jW}^{(j + 1)W - 1} X_i =\n",
    "\\prod_{i = jW}^{(j + 1)W - 1} G_i(x)$. Thus, $\\mathbf{resW}[j]$ defines the PGF\n",
    "for the number of trials in the $j$-th block, formed by indices $i = jW, \\ldots,\n",
    "(j + 1)W - 1$. The last range is treated separately as in general it may have\n",
    "fewer than $W$ elements."
   ]
  },
  {
   "cell_type": "code",
   "execution_count": null,
   "metadata": {
    "vscode": {
     "languageId": "python"
    }
   },
   "outputs": [],
   "source": [
    "def compute_resW(n, W, PGFs):\n",
    "    nW = n - 1 - ((n - 1) % W)\n",
    "\n",
    "    resW = [prod(PGFs[i:i + W]) for i in range(0, nW, W)] + [prod(PGFs[nW:])]\n",
    "\n",
    "    return resW"
   ]
  },
  {
   "cell_type": "markdown",
   "metadata": {},
   "source": [
    "Recall that the coefficient of $x^k$ in a PGF indicates the probability that $k$\n",
    "trials are sufficient. We construct an array with the coefficients of $x^W$ for\n",
    "each block (except for the last, in which we seek the coefficient of\n",
    "$x^{(n - 1) \\bmod W}$). We then take the minimum across this array; this is the\n",
    "minimum probability, across all blocks, of full block acceptance, without the\n",
    "need to run the fixup procedure.\n",
    "\n",
    "By multiplying together all elements of the array `resW`, we obtain a PGF $X$\n",
    "describing the global number of trials required for all $n - 1$ samples during a\n",
    "full execution of <span style=\"font-variant:small-caps;\">RejSamplingMod</span>.\n",
    "The coefficient of $x^{n - 1}$ of this PGF is the probability that no rejections\n",
    "at all happen during the execution of the algorithm -- not only for a given\n",
    "block of $w$ entries, but across all blocks.\n",
    "\n",
    "Finally, we determine the bound the number of uniform random integers required\n",
    "in the $\\mathbf{rnd}$ array, so that the probability of running out of random\n",
    "integers due to excessive rejections is smaller than $p_{err}$. In other words,\n",
    "we obtain $k$ such that $1 - \\sum_{j = 0}^k \\textrm{Pr}(X = n - 1 + k) <\n",
    "p_{err}$. We also show the value of $k$ rounded up to a multiple of 8, a choice\n",
    "tied to our use of NEON and $L = 16$, as explained in the paper."
   ]
  },
  {
   "cell_type": "code",
   "execution_count": null,
   "metadata": {
    "vscode": {
     "languageId": "python"
    }
   },
   "outputs": [],
   "source": [
    "for n in ns:\n",
    "    PGFs = compute_PGFs(RRR, n, L)\n",
    "    resW = compute_resW(n, W, PGFs)\n",
    "\n",
    "    pW = [resW[i][W] for i in range(len(resW) - 1)] + [resW[-1][(n - 1) % W]]\n",
    "\n",
    "    print(\n",
    "        f\"Lowest probability of full block acceptance across all blocks for \"\n",
    "        f\"n = {n}: {min(pW)}\")\n",
    "\n",
    "    res = prod(resW)\n",
    "\n",
    "    print(\n",
    "        f\"Probability of no rejections in a full execution of the algorithm \"\n",
    "        f\"for n = {n}: {res[n - 1]}\")\n",
    "\n",
    "    cum_p = RRR(0)\n",
    "    for i in range(n - 1, res.degree() + 1):\n",
    "        cum_p += res[i]\n",
    "        if 1 - cum_p < p_err:\n",
    "            print(\n",
    "                f\"Required length of rnd array of {L}-bit random integers to \"\n",
    "                f\"achieve error probability < 2^{log2_p_err} for n = {n}: {i} \"\n",
    "                f\"(rounded up to the next multiple of 8: {i + ((8 - i) % 8)})\"\n",
    "            )\n",
    "            break\n",
    "    \n",
    "    print()"
   ]
  }
 ],
 "metadata": {
  "kernelspec": {
   "display_name": "SageMath 10.3",
   "language": "sage",
   "name": "SageMath-10.3"
  },
  "language_info": {
   "codemirror_mode": {
    "name": "ipython",
    "version": 3
   },
   "file_extension": ".py",
   "mimetype": "text/x-python",
   "name": "sage",
   "nbconvert_exporter": "python",
   "pygments_lexer": "ipython3",
   "version": "3.11.1"
  }
 },
 "nbformat": 4,
 "nbformat_minor": 4
}
